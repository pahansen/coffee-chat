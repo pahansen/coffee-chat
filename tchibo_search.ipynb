{
 "cells": [
  {
   "cell_type": "code",
   "execution_count": 2,
   "metadata": {},
   "outputs": [],
   "source": [
    "import os\n",
    "import pandas as pd\n",
    "import openai\n",
    "from openai.embeddings_utils import get_embedding, cosine_similarity\n",
    "import tiktoken\n",
    "import pypdf\n",
    "import os\n",
    "\n",
    "EMBEDDING_MODEL = \"text-embedding-ada-002\"\n",
    "GPT_MODEL = \"gpt-3.5-turbo\""
   ]
  },
  {
   "attachments": {},
   "cell_type": "markdown",
   "metadata": {},
   "source": [
    "At first, we extract all pages as text files from the coffee machine manual PDF document."
   ]
  },
  {
   "cell_type": "code",
   "execution_count": null,
   "metadata": {},
   "outputs": [],
   "source": [
    "pdf_file = open('/workspaces/search-embedding-example/anleitung.pdf', 'rb')\n",
    "pdf_reader = pypdf.PdfReader(pdf_file)\n",
    "num_pages = len(pdf_reader.pages)\n",
    "page_number = 0\n",
    "while page_number < num_pages:\n",
    "    page = pdf_reader.pages[page_number]\n",
    "    text = page.extract_text()\n",
    "    with open(f'articles/page_{page_number}.txt', 'w') as f:\n",
    "        f.write(text)\n",
    "    page_number += 1"
   ]
  },
  {
   "attachments": {},
   "cell_type": "markdown",
   "metadata": {},
   "source": [
    "The extracted text files are used to create our embeddings. For this project, the embeddings are stored along with the corresponding text in a Data Frame."
   ]
  },
  {
   "cell_type": "code",
   "execution_count": 3,
   "metadata": {},
   "outputs": [],
   "source": [
    "embeddings = []\n",
    "files = os.listdir(\"articles\")\n",
    "for file in files:\n",
    "    with open(f\"articles/{file}\", \"r\") as f:\n",
    "        text = f.read()\n",
    "        embedding = get_embedding(text, engine=\"text-embedding-ada-002\")\n",
    "        embeddings.append({\"text\": text, \"embedding\": embedding})\n",
    "df = pd.DataFrame(embeddings)"
   ]
  },
  {
   "attachments": {},
   "cell_type": "markdown",
   "metadata": {},
   "source": [
    "Now, we can use a search query to compute an embedding and find the pages that are closest related by using the cosine similarity.\n",
    "The function will always show (by default) the top 3 pages where it found related content to the search query."
   ]
  },
  {
   "cell_type": "code",
   "execution_count": 7,
   "metadata": {},
   "outputs": [
    {
     "name": "stdout",
     "output_type": "stream",
     "text": [
      "['18Mahlgrad einstellen\\nVORSICHT  – Sachschäden\\n• Die Einstellung des Mahlgrades darf nur bei laufendem Mahlwerk \\n vorgenommen werden.\\n• Verändern Sie den Mahlgrad nur in kleinen Stufen und beobachten Sie \\ndie geschmacklichen Veränderungen nach 1 - 2 Tassen Kaffee, bevor \\nSie den Mahlgrad erneut verändern.\\nVoraussetzungen:\\nDie Maschine ist eingeschaltet und einsatzbereit.\\n1.  Schieben Sie den Kaffee-\\nauslauf ggf. nach unten  \\noder oben.\\n2.  Stellen Sie ein leeres Gefäß \\nunter den Kaffeeauslauf.\\n3.  Nehmen Sie die Abdeckung \\nvom  Kaffeebohnenbehälter ab.\\n  Im Kaffeebohnenbehälter  \\nbefindet sich der Mahlgrad -\\nregler. Er ist werkseitig auf \\nStufe 2  eingestellt.Mahlgrad gröber einstellen\\nStellen Sie den Mahlgrad gröber ein, wenn der Kaffee schneller fließen \\nsoll, z.B. weil der Kaffee Ihnen zu stark schmeckt.\\n4.  Drücken Sie eine der beiden \\nGetränke-Tasten (Espresso \\noder Caffè Crema).\\n5.  Während der Kaffee gemahlen \\nwird, drehen Sie den Mahl -\\ngradregler im Uhrzeigersinn \\nin  Richtung  auf einen  \\ngrößeren Punkt .\\nMahlgrad feiner einstellen\\nStellen Sie den Mahlgrad feiner ein, wenn der Kaffee langsamer fließen \\nund damit mehr Aroma aufnehmen soll, z.B. weil der Kaffee Ihnen zu \\nschwach schmeckt.  \\n4.  Drücken Sie eine der beiden \\nGetränke-Tasten (Espresso \\noder Caffè Crema).\\n5.  Während der Kaffee gemahlen \\nwird, drehen Sie den Mahl -\\ngradregler gegen den Uhr -\\nzeigersinn in  Richtung    \\nauf einen kleineren Punkt .\\nWenn der Mahlgrad zu fein eingestellt ist, läuft der Kaffee eventuell \\nsehr langsam oder gar nicht mehr heraus. ', '13Höhe des Kaffeeauslaufs einstellen\\nSie können den Kaffeeauslauf stufenlos auf verschiedene  \\nTassengrößen anpassen.\\nFür Espressotassen \\nschieben Sie den  \\nKaffeeauslauf so weit \\nwie erforderlich nach \\nunten.Für große Tassen  \\nschieben Sie den  \\nKaffeeauslauf so weit \\nwie erforderlich nach \\noben.Für hohe Gläser  \\nschieben Sie den  \\nKaffeeauslauf ganz \\nnach oben und  \\nentfernen Sie die  \\nAbtropfschale.War die Maschine kurz vor dem Einschalten schon in Betrieb und ist \\nentsprechend noch warm, spült die Maschine nicht erneut Wasser \\ndurch die Leitungen. Erst wenn sie ausreichend abgekühlt ist, wird \\nauch ein neuer Spülvorgang ausgelöst. Siehe auch Kapitel „Auto -\\nmatischen Spülvorgang anpassen“.\\n   Um die Maschine wieder  \\nauszuschalten , drücken  \\nSie die Ein-/Aus -Taste.', '17Getränkemenge verändern\\nSie können die werkseitig eingestellten Getränkemengen dauerhaft  \\nverändern. Pro Getränke-Taste ist jeweils eine individuelle Einstellung \\n möglich: Je eine für Espresso und Caffè Crema.  \\nVoreinstellung beim Kauf der Maschine:    \\nEspresso  ca. 40 ml  I  Caffè Crema  ca. 125 ml  \\n •  Sollte die geänderte Getränkemenge nicht Ihrem Geschmack  \\nentsprechen, wiederholen Sie den Vorgang einfach, um die  \\nEinstellung erneut zu ändern. \\n•  Wie Sie die ursprünglichen Getränkemengen wiederherstellen, \\nkönnen Sie im Abschnitt „Werkseitig eingestellte Getränkemengen \\nwiederherstellen“ nachlesen.\\nVoraussetzungen:\\n• Die Maschine ist eingeschaltet und einsatzbereit.\\n• Eine Tasse oder ein Glas steht unter dem Kaffeeauslauf.\\n1.  Drücken Sie die gewünschte \\nGetränke-Taste (z.B. Caffè  \\nCrema), um den Mahl- und \\nBrühvorgang zu starten.\\n2.  Warten Sie, bis die Bohnen  \\ngemahlen sind. \\n3.  Sobald der Kaffee aus der \\nKaffee  austrittsöffnung läuft, \\nhalten Sie die Getränke-  \\nTaste gedrückt.4.  Wenn die gewünschte Kaffee -\\nmenge in die Tasse gelaufen \\nist, lassen Sie die Taste los. \\nDie Einstellung ist gespeichert; zur Bestätigung ertönen 2 Signaltöne.\\nWerkseitig eingestellte Getränkemengen wiederherstellen\\nSie können die ursprünglichen Wassermengen wieder  einstellen.\\nVoraussetzungen:\\nDie Maschine ist eingeschaltet und einsatzbereit.\\n1.  Halten Sie die Ein-/Aus -Taste  \\nund die Intense+-Taste   \\ngedrückt (ca. 5 Sekunden),  \\nbis 2 Signaltöne ertönen.\\n2. Lassen Sie die Tasten los. \\nDie werkseitig eingestellten Wassermengen sind wiederhergestellt.'] [0.8713552368253472, 0.8175670204361514, 0.8148444697770568]\n"
     ]
    }
   ],
   "source": [
    "def search_pages(df, search_query, n=3):\n",
    "    search_query_embedding = get_embedding(\n",
    "        search_query,\n",
    "        engine=\"text-embedding-ada-002\"\n",
    "    )\n",
    "    df[\"similarity\"] = df.embedding.apply(lambda x: cosine_similarity(x, search_query_embedding))\n",
    "    results = (\n",
    "        df.sort_values(\"similarity\", ascending=False)\n",
    "        .head(n)\n",
    "    )\n",
    "    strings = results.text.tolist()\n",
    "    relatednesses = results.similarity.tolist()\n",
    "    return strings[:n], relatednesses[:n]\n",
    "\n",
    "\n",
    "strings, relatednesses = search_pages(df, \"mahlgrad einstellen\", n=3)\n",
    "print(strings, relatednesses)"
   ]
  },
  {
   "attachments": {},
   "cell_type": "markdown",
   "metadata": {},
   "source": [
    "With the embedding search in place, we are now able to construct the prompt that will be sent to the OpenAI GPT model. For the prompt, we first search based on the search query in our embeddings data frame. The top results are used in the prompt to provide information from the manual along with the user question. In order to limit the amount of tokens used, each additional page from the search results is evaluated first on the number of tokens. If it still fits, the page is added to the prompt.\n",
    "\n",
    "As an additional instruction, the prompt includes a request to construct an advertisement for a specific type of coffee / coffee beans to customize the prompt a little.\n"
   ]
  },
  {
   "cell_type": "code",
   "execution_count": 8,
   "metadata": {},
   "outputs": [],
   "source": [
    "def num_tokens(text: str, model: str = GPT_MODEL) -> int:\n",
    "    \"\"\"Return the number of tokens in a string.\"\"\"\n",
    "    encoding = tiktoken.encoding_for_model(model)\n",
    "    return len(encoding.encode(text))\n",
    "\n",
    "\n",
    "def query_message(\n",
    "    query: str,\n",
    "    df: pd.DataFrame,\n",
    "    model: str,\n",
    "    token_budget: int\n",
    ") -> str:\n",
    "    \"\"\"Return a message for GPT, with relevant source texts pulled from a dataframe.\"\"\"\n",
    "    strings, _ = search_pages(df, query, n=3)\n",
    "    introduction = 'Use the below articles on the Tchibo coffe machine to answer the subsequent question. \\\n",
    "        If the answer cannot be found in the articles, write \"I am sorry, but I could not find an answer.\" \\\n",
    "        Before you evaluate the subsequent question and the articles, translate the subsequent question and all the articles into english. \\\n",
    "        Afterwards, return your answer in english as well. \\\n",
    "        If the question explicitly mentions coffee or beans, please add a little advertisement to your answer for the delicious \"Tchibo Barista Caffè Crema\" coffee beans.'\n",
    "    question = f\"\\n\\nQuestion: {query}\"\n",
    "    message = introduction\n",
    "    for string in strings:\n",
    "        next_article = f'\\n\\nArticle section:\\n\"\"\"\\n{string}\\n\"\"\"'\n",
    "        if (\n",
    "            num_tokens(message + next_article + question, model=model)\n",
    "            > token_budget\n",
    "        ):\n",
    "            break\n",
    "        else:\n",
    "            message += next_article\n",
    "    return message + question\n",
    "\n",
    "\n",
    "def ask(\n",
    "    query: str,\n",
    "    df: pd.DataFrame = df,\n",
    "    model: str = GPT_MODEL,\n",
    "    token_budget: int = 4096 - 500,\n",
    "    print_message: bool = False,\n",
    ") -> str:\n",
    "    message = query_message(query, df, model=model, token_budget=token_budget)\n",
    "    if print_message:\n",
    "        print(message)\n",
    "    messages = [\n",
    "        {\"role\": \"system\", \"content\": \"You answer questions about the Tchibo coffee machine.\"},\n",
    "        {\"role\": \"user\", \"content\": message},\n",
    "    ]\n",
    "    response = openai.ChatCompletion.create(\n",
    "        model=model,\n",
    "        messages=messages,\n",
    "        temperature=0\n",
    "    )\n",
    "    response_message = response[\"choices\"][0][\"message\"][\"content\"]\n",
    "    return response_message"
   ]
  },
  {
   "cell_type": "code",
   "execution_count": 11,
   "metadata": {},
   "outputs": [
    {
     "data": {
      "text/plain": [
       "\"To clean the Tchibo coffee machine, the machine's housing, water tank, filter in the water tank, coffee grounds container, residual water tray, drip tray, and brewing unit should be cleaned daily, weekly, or as needed. The housing should be wiped with a soft, damp cloth, and the water tank should be cleaned with dish soap and rinsed thoroughly under running water. The particle filter in the water tank can be removed to remove deposits. The brewing unit should be cleaned by pressing the cover flap in the lower area, holding the two orange buttons firmly, and pulling the brewing unit straight out of the machine. The brewing unit should be cleaned under running warm water and allowed to dry before being reinserted into the machine. The machine should be rinsed by running two cups of water through it after the first use or if it has not been used for more than two days.\""
      ]
     },
     "execution_count": 11,
     "metadata": {},
     "output_type": "execute_result"
    }
   ],
   "source": [
    "ask(\"how do I clean the machine?\")"
   ]
  },
  {
   "attachments": {},
   "cell_type": "markdown",
   "metadata": {},
   "source": [
    "Even though there is no information on how to make a cappuccino , we see the little advertisement for the coffee / coffee beans included with a separated cappuccino instruction."
   ]
  },
  {
   "cell_type": "code",
   "execution_count": 12,
   "metadata": {},
   "outputs": [
    {
     "data": {
      "text/plain": [
       "'I am sorry, but I could not find an answer. The provided articles do not mention how to make a cappuccino with the Tchibo coffee machine. However, you can use the machine to make a delicious \"Tchibo Barista Caffè Crema\" coffee, which can be enjoyed on its own or used as a base for other coffee drinks. Simply follow the instructions in article section 14 to prepare a single or double shot of espresso or Caffè Crema. Then, froth milk separately and add it to the coffee to make a cappuccino.'"
      ]
     },
     "execution_count": 12,
     "metadata": {},
     "output_type": "execute_result"
    }
   ],
   "source": [
    "ask(\"how do I make a cappuccino?\")"
   ]
  }
 ],
 "metadata": {
  "kernelspec": {
   "display_name": "Python 3",
   "language": "python",
   "name": "python3"
  },
  "language_info": {
   "codemirror_mode": {
    "name": "ipython",
    "version": 3
   },
   "file_extension": ".py",
   "mimetype": "text/x-python",
   "name": "python",
   "nbconvert_exporter": "python",
   "pygments_lexer": "ipython3",
   "version": "3.10.4"
  },
  "orig_nbformat": 4
 },
 "nbformat": 4,
 "nbformat_minor": 2
}
